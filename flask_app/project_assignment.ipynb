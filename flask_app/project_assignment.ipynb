{
 "cells": [
  {
   "cell_type": "markdown",
   "metadata": {},
   "source": [
    "### Problem Statement\n",
    "\n",
    "**Initially:**\n",
    "To clean and preprocess a Twitter text extract dataset for accurate sentiment analysis in future model development.\n",
    "Classifying tweets as positive, negative, or neutral based on their sentiment.\n",
    "\n",
    "**Further:**\n",
    "To train a simple Machine Learning model on the cleaned dataset and make predictions which will be used to evaluate the model's performance. \n",
    "\n",
    "**Context:**\n",
    "My final year project is based on an AI mental health chatbot application which will provide appropriate respomses to users based on the percieved sentiment. This will serve as a basis for building the part of the application which can percieve the sentiment of the message."
   ]
  },
  {
   "cell_type": "markdown",
   "metadata": {},
   "source": [
    "### Part 1:\n",
    "The Twitter Sentiment Analysis dataset contains tweets annotated with sentiment labels, typically used for  tasks like classification. It is commonly used to train machine learning models to understand and predict sentiment (e.g., positive, negative, or neutral).\n",
    "\n",
    "I will use the tweet (content) as input features and the sentiment label as the target to predict."
   ]
  },
  {
   "cell_type": "code",
   "execution_count": 3,
   "metadata": {},
   "outputs": [
    {
     "ename": "ModuleNotFoundError",
     "evalue": "No module named 'pandas'",
     "output_type": "error",
     "traceback": [
      "\u001b[0;31m---------------------------------------------------------------------------\u001b[0m",
      "\u001b[0;31mModuleNotFoundError\u001b[0m                       Traceback (most recent call last)",
      "Cell \u001b[0;32mIn[3], line 3\u001b[0m\n\u001b[1;32m      1\u001b[0m \u001b[38;5;28;01mimport\u001b[39;00m \u001b[38;5;21;01mnumpy\u001b[39;00m \u001b[38;5;28;01mas\u001b[39;00m \u001b[38;5;21;01mnp\u001b[39;00m\n\u001b[1;32m      2\u001b[0m \u001b[38;5;28;01mimport\u001b[39;00m \u001b[38;5;21;01mmatplotlib\u001b[39;00m\u001b[38;5;21;01m.\u001b[39;00m\u001b[38;5;21;01mpyplot\u001b[39;00m \u001b[38;5;28;01mas\u001b[39;00m \u001b[38;5;21;01mplt\u001b[39;00m\n\u001b[0;32m----> 3\u001b[0m \u001b[38;5;28;01mimport\u001b[39;00m \u001b[38;5;21;01mpandas\u001b[39;00m \u001b[38;5;28;01mas\u001b[39;00m \u001b[38;5;21;01mpd\u001b[39;00m\n\u001b[1;32m      5\u001b[0m \u001b[38;5;66;03m# Our column names were missing at the start\u001b[39;00m\n\u001b[1;32m      6\u001b[0m column_names \u001b[38;5;241m=\u001b[39m [\u001b[38;5;124m'\u001b[39m\u001b[38;5;124mID\u001b[39m\u001b[38;5;124m'\u001b[39m, \u001b[38;5;124m'\u001b[39m\u001b[38;5;124mTopic\u001b[39m\u001b[38;5;124m'\u001b[39m, \u001b[38;5;124m'\u001b[39m\u001b[38;5;124mSentiment\u001b[39m\u001b[38;5;124m'\u001b[39m, \u001b[38;5;124m'\u001b[39m\u001b[38;5;124mTweet Content\u001b[39m\u001b[38;5;124m'\u001b[39m]\n",
      "\u001b[0;31mModuleNotFoundError\u001b[0m: No module named 'pandas'"
     ]
    }
   ],
   "source": [
    "import numpy as np\n",
    "import matplotlib.pyplot as plt\n",
    "import pandas as pd\n",
    "\n",
    "# Our column names were missing at the start\n",
    "column_names = ['ID', 'Topic', 'Sentiment', 'Tweet Content']\n",
    "\n",
    "# assign column names\n",
    "data = pd.read_csv('twitter.csv', names=column_names, header=None)\n",
    "\n",
    "print(data.head(5))"
   ]
  },
  {
   "cell_type": "code",
   "execution_count": null,
   "metadata": {},
   "outputs": [
    {
     "data": {
      "text/plain": [
       "Index(['ID', 'Topic', 'Sentiment', 'Tweet Content'], dtype='object')"
      ]
     },
     "execution_count": 52,
     "metadata": {},
     "output_type": "execute_result"
    }
   ],
   "source": [
    "data.columns\n",
    "# Data.columns lists the columns in the dataframe, which we set above"
   ]
  },
  {
   "cell_type": "code",
   "execution_count": null,
   "metadata": {},
   "outputs": [
    {
     "data": {
      "text/plain": [
       "ID                int64\n",
       "Topic            object\n",
       "Sentiment        object\n",
       "Tweet Content    object\n",
       "dtype: object"
      ]
     },
     "execution_count": 53,
     "metadata": {},
     "output_type": "execute_result"
    }
   ],
   "source": [
    "# Exploratory data analysis\n",
    "data.dtypes\n"
   ]
  },
  {
   "cell_type": "markdown",
   "metadata": {},
   "source": [
    "Our dataset consists of objects, which are in this case strings which will need to be processed into something numerical later on."
   ]
  },
  {
   "cell_type": "code",
   "execution_count": null,
   "metadata": {},
   "outputs": [
    {
     "data": {
      "text/html": [
       "<div>\n",
       "<style scoped>\n",
       "    .dataframe tbody tr th:only-of-type {\n",
       "        vertical-align: middle;\n",
       "    }\n",
       "\n",
       "    .dataframe tbody tr th {\n",
       "        vertical-align: top;\n",
       "    }\n",
       "\n",
       "    .dataframe thead th {\n",
       "        text-align: right;\n",
       "    }\n",
       "</style>\n",
       "<table border=\"1\" class=\"dataframe\">\n",
       "  <thead>\n",
       "    <tr style=\"text-align: right;\">\n",
       "      <th></th>\n",
       "      <th>ID</th>\n",
       "    </tr>\n",
       "  </thead>\n",
       "  <tbody>\n",
       "    <tr>\n",
       "      <th>count</th>\n",
       "      <td>74682.000000</td>\n",
       "    </tr>\n",
       "    <tr>\n",
       "      <th>mean</th>\n",
       "      <td>6432.586165</td>\n",
       "    </tr>\n",
       "    <tr>\n",
       "      <th>std</th>\n",
       "      <td>3740.427870</td>\n",
       "    </tr>\n",
       "    <tr>\n",
       "      <th>min</th>\n",
       "      <td>1.000000</td>\n",
       "    </tr>\n",
       "    <tr>\n",
       "      <th>25%</th>\n",
       "      <td>3195.000000</td>\n",
       "    </tr>\n",
       "    <tr>\n",
       "      <th>50%</th>\n",
       "      <td>6422.000000</td>\n",
       "    </tr>\n",
       "    <tr>\n",
       "      <th>75%</th>\n",
       "      <td>9601.000000</td>\n",
       "    </tr>\n",
       "    <tr>\n",
       "      <th>max</th>\n",
       "      <td>13200.000000</td>\n",
       "    </tr>\n",
       "  </tbody>\n",
       "</table>\n",
       "</div>"
      ],
      "text/plain": [
       "                 ID\n",
       "count  74682.000000\n",
       "mean    6432.586165\n",
       "std     3740.427870\n",
       "min        1.000000\n",
       "25%     3195.000000\n",
       "50%     6422.000000\n",
       "75%     9601.000000\n",
       "max    13200.000000"
      ]
     },
     "execution_count": 54,
     "metadata": {},
     "output_type": "execute_result"
    }
   ],
   "source": [
    "data.describe()"
   ]
  },
  {
   "cell_type": "code",
   "execution_count": null,
   "metadata": {},
   "outputs": [
    {
     "name": "stdout",
     "output_type": "stream",
     "text": [
      "<class 'pandas.core.frame.DataFrame'>\n",
      "RangeIndex: 74682 entries, 0 to 74681\n",
      "Data columns (total 4 columns):\n",
      " #   Column         Non-Null Count  Dtype \n",
      "---  ------         --------------  ----- \n",
      " 0   ID             74682 non-null  int64 \n",
      " 1   Topic          74682 non-null  object\n",
      " 2   Sentiment      74682 non-null  object\n",
      " 3   Tweet Content  73996 non-null  object\n",
      "dtypes: int64(1), object(3)\n",
      "memory usage: 2.3+ MB\n"
     ]
    }
   ],
   "source": [
    "data.info()"
   ]
  },
  {
   "cell_type": "code",
   "execution_count": null,
   "metadata": {},
   "outputs": [
    {
     "data": {
      "image/png": "[encoded data removed]",
      "text/plain": [
       "<Figure size 640x480 with 1 Axes>"
      ]
     },
     "metadata": {},
     "output_type": "display_data"
    }
   ],
   "source": [
    "import seaborn as sns\n",
    "\n",
    "# Class distribution (visualisation of positive, neutral, and negative sentiments)\n",
    "sns.countplot(x='Sentiment', data=data)\n",
    "plt.title(\"Class Distribution of Sentiments\")\n",
    "plt.xlabel(\"Sentiment\")\n",
    "plt.ylabel(\"Count\")\n",
    "plt.show()\n",
    "\n"
   ]
  },
  {
   "cell_type": "markdown",
   "metadata": {},
   "source": [
    "## Part 2 ##\n",
    "\n",
    "Data Cleaning"
   ]
  },
  {
   "cell_type": "markdown",
   "metadata": {},
   "source": [
    "This step includes identifying rows containing NAN values, duplicate values, and incorrect sentiment values."
   ]
  },
  {
   "cell_type": "code",
   "execution_count": null,
   "metadata": {},
   "outputs": [
    {
     "name": "stdout",
     "output_type": "stream",
     "text": [
      "False\n"
     ]
    }
   ],
   "source": [
    "rows_with_nan = data[data.isna().any(axis=1)]  # Rows containing NaN \n",
    "\n",
    "duplicate_rows = data[data.duplicated(subset=['Tweet Content'], keep='first')]\n",
    "\n",
    "valid_sentiments = ['positive', 'neutral', 'negative']\n",
    "invalid_sentiments = data[~data['Sentiment'].isin(valid_sentiments)]\n",
    "\n",
    "# Combine all filtered rows \n",
    "filtered = pd.concat([rows_with_nan, duplicate_rows, invalid_sentiments]).drop_duplicates()\n",
    "\n",
    "# removing filtered rows and test\n",
    "data_cleaned = data.drop(filtered.index)\n",
    "\n",
    "print(data_cleaned.isin(filtered).any().any())  # Should hopefully return False \n",
    "\n"
   ]
  },
  {
   "cell_type": "markdown",
   "metadata": {},
   "source": [
    "## Part 3\n",
    "\n",
    "Preprocessing"
   ]
  },
  {
   "cell_type": "markdown",
   "metadata": {},
   "source": [
    "1. Converting non-strings to empty strings.\n",
    "2. Removing URLs, mentions, hashtags, and non-alphabetic characters, which is to remove unnecessary noise in the data.\n",
    "3. Converting text to lowercase.\n",
    "4. Removing common stopwords like \"a,\" \"the,\" etc.\n",
    "\n",
    "This creates a new `Cleaned Tweet` column for cleaned results.\n"
   ]
  },
  {
   "cell_type": "code",
   "execution_count": null,
   "metadata": {},
   "outputs": [
    {
     "name": "stdout",
     "output_type": "stream",
     "text": [
      "                                       Tweet Content  \\\n",
      "0  im getting on borderlands and i will murder yo...   \n",
      "1  I am coming to the borders and I will kill you...   \n",
      "2  im getting on borderlands and i will kill you ...   \n",
      "3  im coming on borderlands and i will murder you...   \n",
      "4  im getting on borderlands 2 and i will murder ...   \n",
      "\n",
      "                                       Cleaned Tweet  \n",
      "0   im getting borderlands and i will murder you all  \n",
      "1           i coming borders and i will kill you all  \n",
      "2     im getting borderlands and i will kill you all  \n",
      "3    im coming borderlands and i will murder you all  \n",
      "4  im getting borderlands and i will murder you m...  \n"
     ]
    }
   ],
   "source": [
    "import re\n",
    "\n",
    "def clean_tweet(tweet):\n",
    "    # Handle non-string inputs and missing values by converting to an empty string\n",
    "    if not isinstance(tweet, str):\n",
    "        tweet = \"\"\n",
    "    \n",
    "    # Remove URLs\n",
    "    tweet = re.sub(r'http\\S+|www\\S+', '', tweet)\n",
    "    \n",
    "    # Remove mentions such as @\n",
    "    tweet = re.sub(r'@\\w+', '', tweet)\n",
    "    \n",
    "    # Remove hashtags\n",
    "    tweet = re.sub(r'#\\w+', '', tweet)\n",
    "    \n",
    "    # punctuation, numbers, etc.\n",
    "    tweet = re.sub(r'[^a-zA-Z\\s]', '', tweet)\n",
    "    \n",
    "    # lowercase\n",
    "    tweet = tweet.lower()\n",
    "    \n",
    "    # stopwords or filling words\n",
    "    stop_words = {'a', 'an', 'the', 'in', 'on', 'at', 'for', 'to', 'of', 'is', 'are', 'am', 'was', 'were', 'be'}\n",
    "    tweet = ' '.join([word for word in tweet.split() if word not in stop_words])\n",
    "    \n",
    "    return tweet\n",
    "\n",
    "# Apply the function to column\n",
    "data['Cleaned Tweet'] = data['Tweet Content'].apply(clean_tweet)\n",
    "\n",
    "# Check the cleaned tweets\n",
    "print(data[['Tweet Content', 'Cleaned Tweet']].head())"
   ]
  },
  {
   "cell_type": "markdown",
   "metadata": {},
   "source": [
    "### Part 4\n",
    "\n",
    "\n",
    "**Model Selection and Training**\n",
    "\n",
    "The Count Vectorizer transforms text into numerical features by counting the frequency of words in a document.\n",
    "\n",
    "To begin, I will use Logistic Regression, as it is a straightforward machine learning model suitable for binary or multi-class classification tasks, making it a great starting point for this project.\n",
    "\n",
    "After, I will evaluate and select the most accurate model from SVM, KNN, Naive Bayes, and Logistic Regression."
   ]
  },
  {
   "cell_type": "code",
   "execution_count": null,
   "metadata": {},
   "outputs": [
    {
     "name": "stdout",
     "output_type": "stream",
     "text": [
      "Training data shape: (59745, 34743)\n",
      "Testing data shape: (14937, 34743)\n"
     ]
    }
   ],
   "source": [
    "from sklearn.feature_extraction.text import CountVectorizer\n",
    "from sklearn.linear_model import LogisticRegression\n",
    "from sklearn.model_selection import train_test_split\n",
    "\n",
    "\n",
    "X = data[\"Cleaned Tweet\"]  # Features\n",
    "y = data[\"Sentiment\"]      # Labels\n",
    "\n",
    "# T(80% train, 20% test)\n",
    "X_train, X_test, y_train, y_test = train_test_split(X, y, test_size=0.2, random_state=42)\n",
    "\n",
    "# Feature Extraction \n",
    "vectoriser = CountVectorizer()\n",
    "X_train_vec = vectoriser.fit_transform(X_train) \n",
    "X_test_vec = vectoriser.transform(X_test)       \n",
    "\n",
    "# Output shapes for verification\n",
    "print(\"Training data shape:\", X_train_vec.shape)\n",
    "print(\"Testing data shape:\", X_test_vec.shape)\n"
   ]
  },
  {
   "cell_type": "markdown",
   "metadata": {},
   "source": [
    "## Part 5\n",
    "\n",
    "Accuracy and metrics\n",
    "The model is 80% accurate, which leaves room for experimenting with other methods to encode data. "
   ]
  },
  {
   "cell_type": "code",
   "execution_count": null,
   "metadata": {},
   "outputs": [
    {
     "name": "stdout",
     "output_type": "stream",
     "text": [
      "Testing Accuracy: 0.80\n"
     ]
    }
   ],
   "source": [
    "from sklearn.linear_model import LogisticRegression\n",
    "from sklearn.metrics import accuracy_score, classification_report, confusion_matrix\n",
    "\n",
    "# train the model\n",
    "model_simple = LogisticRegression(max_iter=1000, random_state=42)  # Increased max_iter for convergence\n",
    "model_simple.fit(X_train_vec, y_train)\n",
    "\n",
    "# Make predictions on the test set\n",
    "y_test_pred = model_simple.predict(X_test_vec)\n",
    "\n",
    "# Evaluation on test data\n",
    "test_accuracy = accuracy_score(y_test, y_test_pred)\n",
    "print(f\"Testing Accuracy: {test_accuracy:.2f}\")"
   ]
  },
  {
   "cell_type": "code",
   "execution_count": null,
   "metadata": {},
   "outputs": [
    {
     "name": "stdout",
     "output_type": "stream",
     "text": [
      "Random Forest Testing Accuracy: 0.90\n"
     ]
    }
   ],
   "source": [
    "from sklearn.ensemble import RandomForestClassifier\n",
    "from sklearn.metrics import accuracy_score\n",
    "\n",
    "# Random Forest model\n",
    "model_rf = RandomForestClassifier(n_estimators=100)\n",
    "model_rf.fit(X_train_vec, y_train)\n",
    "\n",
    "y_test_pred_rf = model_rf.predict(X_test_vec)\n",
    "\n",
    "test_accuracy = accuracy_score(y_test, y_test_pred)\n",
    "print(f\"Random Forest Testing Accuracy: {test_accuracy:.2f}\")"
   ]
  },
  {
   "cell_type": "code",
   "execution_count": null,
   "metadata": {},
   "outputs": [],
   "source": [
    "from sklearn.neighbors import KNeighborsClassifier\n",
    "from sklearn.metrics import accuracy_score\n",
    "\n",
    "# K-Nearest Neighbors model\n",
    "model_knn = KNeighborsClassifier(n_neighbors=5)\n",
    "model_knn.fit(X_train_vec, y_train)\n",
    "\n",
    "y_test_pred = model_knn.predict(X_test_vec)\n",
    "\n",
    "test_accuracy = accuracy_score(y_test, y_test_pred)\n",
    "print(f\"K-Nearest Neighbors Testing Accuracy: {test_accuracy:.2f}\")"
   ]
  },
  {
   "cell_type": "code",
   "execution_count": null,
   "metadata": {},
   "outputs": [],
   "source": [
    "from sklearn.naive_bayes import MultinomialNB\n",
    "from sklearn.metrics import accuracy_score\n",
    "\n",
    "# Naive Bayes model\n",
    "model_NB = MultinomialNB()\n",
    "model_NB.fit(X_train_vec, y_train)\n",
    "\n",
    "y_test_pred = model_NB.predict(X_test_vec)\n",
    "\n",
    "test_accuracy = accuracy_score(y_test, y_test_pred)\n",
    "print(f\"Naive Bayes Testing Accuracy: {test_accuracy:.2f}\")"
   ]
  },
  {
   "cell_type": "markdown",
   "metadata": {},
   "source": [
    "### Classification report for Random Forest"
   ]
  },
  {
   "cell_type": "code",
   "execution_count": null,
   "metadata": {},
   "outputs": [],
   "source": [
    "# Generate and print classification report\n",
    "report = classification_report(y_test, y_test_pred_rf)\n",
    "print(\"Classification Report:\\n\", report)"
   ]
  },
  {
   "cell_type": "markdown",
   "metadata": {},
   "source": [
    "### Part 6\n",
    "\n",
    "Making simple predictions on new data:\n",
    "\n",
    "We can see that the model is complex enough to capture binary or extreme values (bad/ good/ angry/ sad) but may not be able to classify sentiments within complex or neutral sentences."
   ]
  },
  {
   "cell_type": "code",
   "execution_count": null,
   "metadata": {},
   "outputs": [
    {
     "name": "stdout",
     "output_type": "stream",
     "text": [
      "Tweet: Absolutely fantastic service! -> Sentiment: Positive\n",
      "Tweet: I hate how bad this was. -> Sentiment: Negative\n",
      "Tweet: It's neither good nor bad. -> Sentiment: Positive\n"
     ]
    }
   ],
   "source": [
    "# Predictions on New Data\n",
    "new_tweets = [\n",
    "    \"Absolutely fantastic service!\", \n",
    "    \"I hate how bad this was.\", \n",
    "    \"It's neither good nor bad.\"\n",
    "]\n",
    "new_tweets_vec = vectoriser.transform(new_tweets)\n",
    "predictions = model_rf.predict(new_tweets_vec)\n",
    "\n",
    "# Output Predictions\n",
    "for tweet, sentiment in zip(new_tweets, predictions):\n",
    "    print(f\"Tweet: {tweet} -> Sentiment: {sentiment}\")"
   ]
  },
  {
   "cell_type": "markdown",
   "metadata": {},
   "source": [
    "### Part 7\n",
    "\n",
    "Saving the model for use in our flask application."
   ]
  },
  {
   "cell_type": "code",
   "execution_count": null,
   "metadata": {},
   "outputs": [
    {
     "name": "stdout",
     "output_type": "stream",
     "text": [
      "Model saved.\n"
     ]
    }
   ],
   "source": [
    "import joblib\n",
    "import os\n",
    "\n",
    "# Where to save both (inside virtual environment)\n",
    "folder_path = 'models'\n",
    "\n",
    "# Check if the folder exists, if not, create it\n",
    "if not os.path.exists(folder_path):\n",
    "    os.makedirs(folder_path)\n",
    "\n",
    "# Saves the model to the specified folder\n",
    "joblib.dump(model_rf, os.path.join(folder_path, 'model.pkl'))\n",
    "\n",
    "# Saves the vectorizer to the specified folder\n",
    "joblib.dump(vectoriser, os.path.join(folder_path, 'vectoriser.pkl'))\n",
    "\n",
    "# Loads the model from the specified folder\n",
    "loaded_model = joblib.load(os.path.join(folder_path, 'model.pkl'))\n",
    "print(\"Model saved.\")\n"
   ]
  },
  {
   "cell_type": "markdown",
   "metadata": {},
   "source": [
    "In summary, Logistic Regression is a good choice when simplicity and speed/ efficiency is important. Random Forest is better suited for complex, high-dimensional datasets where accuracy is the primary concern, but it may sacrifice some interpretability."
   ]
  }
 ],
 "metadata": {
  "kernelspec": {
   "display_name": "Python 3",
   "language": "python",
   "name": "python3"
  },
  "language_info": {
   "codemirror_mode": {
    "name": "ipython",
    "version": 3
   },
   "file_extension": ".py",
   "mimetype": "text/x-python",
   "name": "python",
   "nbconvert_exporter": "python",
   "pygments_lexer": "ipython3",
   "version": "3.13.0"
  }
 },
 "nbformat": 4,
 "nbformat_minor": 2
}
