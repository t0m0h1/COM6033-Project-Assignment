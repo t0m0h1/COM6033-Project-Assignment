{
 "cells": [
  {
   "cell_type": "markdown",
   "metadata": {},
   "source": [
    "### Problem Statement\n",
    "\n",
    "**Initially:**\n",
    "To clean and preprocess a Twitter text extract dataset for accurate sentiment analysis in future model development.\n",
    "Classifying tweets as positive, negative, or neutral based on their sentiment.\n",
    "\n",
    "**Further:**\n",
    "To train a Machine Learning model on the cleaned dataset and make predictions which will be used to evaluate the model's performance. \n",
    "\n",
    "**Context:**\n",
    "My final year project is based on an AI mental health chatbot application which will provide appropriate respomses to users based on the percieved sentiment. This will serve as a basis for building the part of the application which can percieve the sentiment of the message (whether users are happy/ sad/ angry/ stressed)."
   ]
  },
  {
   "cell_type": "markdown",
   "metadata": {},
   "source": [
    "### Part 1:\n",
    "Reading and exploring the data"
   ]
  },
  {
   "cell_type": "code",
   "execution_count": 98,
   "metadata": {},
   "outputs": [
    {
     "name": "stdout",
     "output_type": "stream",
     "text": [
      "     ID        Topic Sentiment  \\\n",
      "0  2401  Borderlands  Positive   \n",
      "1  2401  Borderlands  Positive   \n",
      "2  2401  Borderlands  Positive   \n",
      "3  2401  Borderlands  Positive   \n",
      "4  2401  Borderlands  Positive   \n",
      "5  2401  Borderlands  Positive   \n",
      "6  2402  Borderlands  Positive   \n",
      "7  2402  Borderlands  Positive   \n",
      "8  2402  Borderlands  Positive   \n",
      "9  2402  Borderlands  Positive   \n",
      "\n",
      "                                       Tweet Content  \n",
      "0  im getting on borderlands and i will murder yo...  \n",
      "1  I am coming to the borders and I will kill you...  \n",
      "2  im getting on borderlands and i will kill you ...  \n",
      "3  im coming on borderlands and i will murder you...  \n",
      "4  im getting on borderlands 2 and i will murder ...  \n",
      "5  im getting into borderlands and i can murder y...  \n",
      "6  So I spent a few hours making something for fu...  \n",
      "7  So I spent a couple of hours doing something f...  \n",
      "8  So I spent a few hours doing something for fun...  \n",
      "9  So I spent a few hours making something for fu...  \n"
     ]
    }
   ],
   "source": [
    "import numpy as np\n",
    "import matplotlib.pyplot as plt\n",
    "import pandas as pd\n",
    "\n",
    "# Our column names were missing at the start\n",
    "column_names = ['ID', 'Topic', 'Sentiment', 'Tweet Content']\n",
    "\n",
    "# assign column names\n",
    "data = pd.read_csv('twitter.csv', names=column_names, header=None)\n",
    "\n",
    "print(data.head(10))\n",
    "\n"
   ]
  },
  {
   "cell_type": "code",
   "execution_count": 99,
   "metadata": {},
   "outputs": [
    {
     "data": {
      "text/plain": [
       "Index(['ID', 'Topic', 'Sentiment', 'Tweet Content'], dtype='object')"
      ]
     },
     "execution_count": 99,
     "metadata": {},
     "output_type": "execute_result"
    }
   ],
   "source": [
    "data.columns\n",
    "# Data.columns lists the columns in the dataframe, which we set above"
   ]
  },
  {
   "cell_type": "code",
   "execution_count": 100,
   "metadata": {},
   "outputs": [
    {
     "data": {
      "text/plain": [
       "ID                int64\n",
       "Topic            object\n",
       "Sentiment        object\n",
       "Tweet Content    object\n",
       "dtype: object"
      ]
     },
     "execution_count": 100,
     "metadata": {},
     "output_type": "execute_result"
    }
   ],
   "source": [
    "# Exploratory data analysis\n",
    "data.dtypes\n"
   ]
  },
  {
   "cell_type": "markdown",
   "metadata": {},
   "source": [
    "Our dataset consists of objects, which are in this case strings which will need to be processed into something numerical later on."
   ]
  },
  {
   "cell_type": "code",
   "execution_count": 101,
   "metadata": {},
   "outputs": [
    {
     "data": {
      "text/html": [
       "<div>\n",
       "<style scoped>\n",
       "    .dataframe tbody tr th:only-of-type {\n",
       "        vertical-align: middle;\n",
       "    }\n",
       "\n",
       "    .dataframe tbody tr th {\n",
       "        vertical-align: top;\n",
       "    }\n",
       "\n",
       "    .dataframe thead th {\n",
       "        text-align: right;\n",
       "    }\n",
       "</style>\n",
       "<table border=\"1\" class=\"dataframe\">\n",
       "  <thead>\n",
       "    <tr style=\"text-align: right;\">\n",
       "      <th></th>\n",
       "      <th>ID</th>\n",
       "    </tr>\n",
       "  </thead>\n",
       "  <tbody>\n",
       "    <tr>\n",
       "      <th>count</th>\n",
       "      <td>74682.000000</td>\n",
       "    </tr>\n",
       "    <tr>\n",
       "      <th>mean</th>\n",
       "      <td>6432.586165</td>\n",
       "    </tr>\n",
       "    <tr>\n",
       "      <th>std</th>\n",
       "      <td>3740.427870</td>\n",
       "    </tr>\n",
       "    <tr>\n",
       "      <th>min</th>\n",
       "      <td>1.000000</td>\n",
       "    </tr>\n",
       "    <tr>\n",
       "      <th>25%</th>\n",
       "      <td>3195.000000</td>\n",
       "    </tr>\n",
       "    <tr>\n",
       "      <th>50%</th>\n",
       "      <td>6422.000000</td>\n",
       "    </tr>\n",
       "    <tr>\n",
       "      <th>75%</th>\n",
       "      <td>9601.000000</td>\n",
       "    </tr>\n",
       "    <tr>\n",
       "      <th>max</th>\n",
       "      <td>13200.000000</td>\n",
       "    </tr>\n",
       "  </tbody>\n",
       "</table>\n",
       "</div>"
      ],
      "text/plain": [
       "                 ID\n",
       "count  74682.000000\n",
       "mean    6432.586165\n",
       "std     3740.427870\n",
       "min        1.000000\n",
       "25%     3195.000000\n",
       "50%     6422.000000\n",
       "75%     9601.000000\n",
       "max    13200.000000"
      ]
     },
     "execution_count": 101,
     "metadata": {},
     "output_type": "execute_result"
    }
   ],
   "source": [
    "data.describe()"
   ]
  },
  {
   "cell_type": "code",
   "execution_count": 102,
   "metadata": {},
   "outputs": [
    {
     "name": "stdout",
     "output_type": "stream",
     "text": [
      "<class 'pandas.core.frame.DataFrame'>\n",
      "RangeIndex: 74682 entries, 0 to 74681\n",
      "Data columns (total 4 columns):\n",
      " #   Column         Non-Null Count  Dtype \n",
      "---  ------         --------------  ----- \n",
      " 0   ID             74682 non-null  int64 \n",
      " 1   Topic          74682 non-null  object\n",
      " 2   Sentiment      74682 non-null  object\n",
      " 3   Tweet Content  73996 non-null  object\n",
      "dtypes: int64(1), object(3)\n",
      "memory usage: 2.3+ MB\n"
     ]
    }
   ],
   "source": [
    "data.info()"
   ]
  },
  {
   "cell_type": "code",
   "execution_count": 103,
   "metadata": {},
   "outputs": [
    {
     "data": {
      "image/png": "[encoded data removed]",
      "text/plain": [
       "<Figure size 640x480 with 1 Axes>"
      ]
     },
     "metadata": {},
     "output_type": "display_data"
    }
   ],
   "source": [
    "import seaborn as sns\n",
    "\n",
    "# Class distribution (visualisation of positive, neutral, and negative sentiments)\n",
    "sns.countplot(x='Sentiment', data=data)\n",
    "plt.title(\"Class Distribution of Sentiments\")\n",
    "plt.xlabel(\"Sentiment\")\n",
    "plt.ylabel(\"Count\")\n",
    "plt.show()\n",
    "\n"
   ]
  },
  {
   "cell_type": "markdown",
   "metadata": {},
   "source": [
    "## Part 2 ##\n",
    "\n",
    "Data Cleaning"
   ]
  },
  {
   "cell_type": "markdown",
   "metadata": {},
   "source": [
    "This step includes identifying rows containing NAN values, duplicate values, and incorrect sentiment values."
   ]
  },
  {
   "cell_type": "code",
   "execution_count": 104,
   "metadata": {},
   "outputs": [
    {
     "name": "stdout",
     "output_type": "stream",
     "text": [
      "False\n"
     ]
    }
   ],
   "source": [
    "rows_with_nan = data[data.isna().any(axis=1)]  # Rows containing NaN \n",
    "\n",
    "duplicate_rows = data[data.duplicated(subset=['Tweet Content'], keep='first')]\n",
    "\n",
    "valid_sentiments = ['positive', 'neutral', 'negative']\n",
    "invalid_sentiments = data[~data['Sentiment'].isin(valid_sentiments)]\n",
    "\n",
    "# Combine all filtered rows \n",
    "filtered = pd.concat([rows_with_nan, duplicate_rows, invalid_sentiments]).drop_duplicates()\n",
    "\n",
    "# removing filtered rows and test\n",
    "data_cleaned = data.drop(filtered.index)\n",
    "\n",
    "print(data_cleaned.isin(filtered).any().any())  # Should hopefully return False \n",
    "\n"
   ]
  },
  {
   "cell_type": "markdown",
   "metadata": {},
   "source": [
    "## Part 3\n",
    "\n",
    "Preprocessing"
   ]
  },
  {
   "cell_type": "markdown",
   "metadata": {},
   "source": [
    "1. Converting non-strings to empty strings.\n",
    "2. Removing URLs, mentions, hashtags, and non-alphabetic characters, which is to remove unnecessary noise in the data.\n",
    "3. Converting text to lowercase.\n",
    "4. Removing common stopwords like \"a,\" \"the,\" etc.\n",
    "\n",
    "This creates a new `Cleaned Tweet` column for cleaned results.\n"
   ]
  },
  {
   "cell_type": "code",
   "execution_count": 105,
   "metadata": {},
   "outputs": [
    {
     "name": "stdout",
     "output_type": "stream",
     "text": [
      "                                       Tweet Content  \\\n",
      "0  im getting on borderlands and i will murder yo...   \n",
      "1  I am coming to the borders and I will kill you...   \n",
      "2  im getting on borderlands and i will kill you ...   \n",
      "3  im coming on borderlands and i will murder you...   \n",
      "4  im getting on borderlands 2 and i will murder ...   \n",
      "\n",
      "                                       Cleaned Tweet  \n",
      "0   im getting borderlands and i will murder you all  \n",
      "1           i coming borders and i will kill you all  \n",
      "2     im getting borderlands and i will kill you all  \n",
      "3    im coming borderlands and i will murder you all  \n",
      "4  im getting borderlands and i will murder you m...  \n"
     ]
    }
   ],
   "source": [
    "import re\n",
    "\n",
    "def clean_tweet(tweet):\n",
    "    # Handle non-string inputs and missing values by converting to an empty string\n",
    "    if not isinstance(tweet, str):\n",
    "        tweet = \"\"\n",
    "    \n",
    "    # Remove URLs\n",
    "    tweet = re.sub(r'http\\S+|www\\S+', '', tweet)\n",
    "    \n",
    "    # Remove mentions (@username)\n",
    "    tweet = re.sub(r'@\\w+', '', tweet)\n",
    "    \n",
    "    # Remove hashtags (#hashtag)\n",
    "    tweet = re.sub(r'#\\w+', '', tweet)\n",
    "    \n",
    "    # Remove non-alphabetical characters (punctuation, numbers, etc.)\n",
    "    tweet = re.sub(r'[^a-zA-Z\\s]', '', tweet)\n",
    "    \n",
    "    # Convert text to lowercase\n",
    "    tweet = tweet.lower()\n",
    "    \n",
    "    # Remove stopwords\n",
    "    stop_words = {'a', 'an', 'the', 'in', 'on', 'at', 'for', 'to', 'of', 'is', 'are', 'am', 'was', 'were', 'be'}\n",
    "    tweet = ' '.join([word for word in tweet.split() if word not in stop_words])\n",
    "    \n",
    "    return tweet\n",
    "\n",
    "# Apply the function to column\n",
    "data['Cleaned Tweet'] = data['Tweet Content'].apply(clean_tweet)\n",
    "\n",
    "# Check the cleaned tweets\n",
    "print(data[['Tweet Content', 'Cleaned Tweet']].head())"
   ]
  },
  {
   "cell_type": "markdown",
   "metadata": {},
   "source": [
    "### Model Selection and Training"
   ]
  },
  {
   "cell_type": "markdown",
   "metadata": {},
   "source": []
  },
  {
   "cell_type": "markdown",
   "metadata": {},
   "source": [
    "The purpose of this project is to "
   ]
  },
  {
   "cell_type": "code",
   "execution_count": 106,
   "metadata": {},
   "outputs": [
    {
     "name": "stdout",
     "output_type": "stream",
     "text": [
      "Training data shape: (59745, 34743)\n",
      "Testing data shape: (14937, 34743)\n"
     ]
    }
   ],
   "source": [
    "from sklearn.feature_extraction.text import CountVectorizer\n",
    "from sklearn.linear_model import LogisticRegression\n",
    "from sklearn.model_selection import train_test_split\n",
    "\n",
    "\n",
    "X = data[\"Cleaned Tweet\"]  # Features\n",
    "y = data[\"Sentiment\"]      # Labels\n",
    "\n",
    "# T(80% train, 20% test)\n",
    "X_train, X_test, y_train, y_test = train_test_split(X, y, test_size=0.2, random_state=42)\n",
    "\n",
    "# Feature Extraction \n",
    "vectoriser = CountVectorizer()\n",
    "X_train_vec = vectoriser.fit_transform(X_train) \n",
    "X_test_vec = vectoriser.transform(X_test)       \n",
    "\n",
    "# Output shapes for verification\n",
    "print(\"Training data shape:\", X_train_vec.shape)\n",
    "print(\"Testing data shape:\", X_test_vec.shape)\n",
    "\n"
   ]
  },
  {
   "cell_type": "code",
   "execution_count": 107,
   "metadata": {},
   "outputs": [
    {
     "name": "stdout",
     "output_type": "stream",
     "text": [
      "Testing Accuracy: 0.80\n"
     ]
    }
   ],
   "source": [
    "from sklearn.linear_model import LogisticRegression\n",
    "from sklearn.metrics import accuracy_score, classification_report, confusion_matrix\n",
    "\n",
    "# train the model\n",
    "model = LogisticRegression(max_iter=1000, random_state=42)  # Increased max_iter for convergence\n",
    "model.fit(X_train_vec, y_train)\n",
    "\n",
    "# Make predictions on the test set\n",
    "y_test_pred = model.predict(X_test_vec)\n",
    "\n",
    "# Evaluation on test data\n",
    "test_accuracy = accuracy_score(y_test, y_test_pred)\n",
    "print(f\"Testing Accuracy: {test_accuracy:.2f}\")"
   ]
  },
  {
   "cell_type": "code",
   "execution_count": 108,
   "metadata": {},
   "outputs": [
    {
     "name": "stdout",
     "output_type": "stream",
     "text": [
      "Classification Report:\n",
      "               precision    recall  f1-score   support\n",
      "\n",
      "  Irrelevant       0.85      0.72      0.78      2592\n",
      "    Negative       0.82      0.85      0.83      4519\n",
      "     Neutral       0.82      0.76      0.79      3596\n",
      "    Positive       0.75      0.85      0.80      4230\n",
      "\n",
      "    accuracy                           0.80     14937\n",
      "   macro avg       0.81      0.79      0.80     14937\n",
      "weighted avg       0.81      0.80      0.80     14937\n",
      "\n",
      "Confusion Matrix:\n",
      " [[1855  233  155  349]\n",
      " [ 101 3828  209  381]\n",
      " [ 112  296 2745  443]\n",
      " [ 126  295  225 3584]]\n",
      "Accuracy Score: 0.804177545691906\n"
     ]
    }
   ],
   "source": [
    "# Evaluate the performance\n",
    "print(\"Classification Report:\\n\", classification_report(y_test, y_test_pred))\n",
    "print(\"Confusion Matrix:\\n\", confusion_matrix(y_test, y_test_pred))\n",
    "print(\"Accuracy Score:\", accuracy_score(y_test, y_test_pred))"
   ]
  },
  {
   "cell_type": "code",
   "execution_count": 109,
   "metadata": {},
   "outputs": [
    {
     "data": {
      "image/png": "[encoded data removed]",
      "text/plain": [
       "<Figure size 640x480 with 2 Axes>"
      ]
     },
     "metadata": {},
     "output_type": "display_data"
    }
   ],
   "source": [
    "# confusion matrix\n",
    "sns.heatmap(confusion_matrix(y_test, y_test_pred), annot=True, fmt='d', cmap='Blues')\n",
    "plt.title(\"Confusion Matrix\")\n",
    "plt.show()"
   ]
  },
  {
   "cell_type": "code",
   "execution_count": 110,
   "metadata": {},
   "outputs": [
    {
     "name": "stdout",
     "output_type": "stream",
     "text": [
      "Tweet: Absolutely fantastic service! -> Sentiment: Positive\n",
      "Tweet: I hate how bad this was. -> Sentiment: Negative\n",
      "Tweet: It's neither good nor bad. -> Sentiment: Positive\n"
     ]
    }
   ],
   "source": [
    "# Predictions on New Data\n",
    "new_tweets = [\n",
    "    \"Absolutely fantastic service!\", \n",
    "    \"I hate how bad this was.\", \n",
    "    \"It's neither good nor bad.\"\n",
    "]\n",
    "new_tweets_vec = vectoriser.transform(new_tweets)\n",
    "predictions = model.predict(new_tweets_vec)\n",
    "\n",
    "# Output Predictions\n",
    "for tweet, sentiment in zip(new_tweets, predictions):\n",
    "    print(f\"Tweet: {tweet} -> Sentiment: {sentiment}\")"
   ]
  }
 ],
 "metadata": {
  "kernelspec": {
   "display_name": "Python 3",
   "language": "python",
   "name": "python3"
  },
  "language_info": {
   "codemirror_mode": {
    "name": "ipython",
    "version": 3
   },
   "file_extension": ".py",
   "mimetype": "text/x-python",
   "name": "python",
   "nbconvert_exporter": "python",
   "pygments_lexer": "ipython3",
   "version": "3.12.0"
  }
 },
 "nbformat": 4,
 "nbformat_minor": 2
}
